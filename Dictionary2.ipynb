{
 "cells": [
  {
   "cell_type": "code",
   "execution_count": 5,
   "metadata": {},
   "outputs": [
    {
     "name": "stdout",
     "output_type": "stream",
     "text": [
      "Enter your word to find the meaning \n",
      "hi\n",
      "1) Expression of greeting used by two or more people who meet each other.\n"
     ]
    }
   ],
   "source": [
    "import json\n",
    "from difflib import SequenceMatcher, get_close_matches\n",
    "\n",
    "\n",
    "'''This is A APP TO FIND Words Meaning '''\n",
    "class Dictionary():\n",
    "    \n",
    "    def __init__(self):\n",
    "        data=json.load(open(\"C:/Users/ssaifuddin/Documents/data.json\"))\n",
    "        self.data=data   \n",
    "\n",
    "    def translate(self,w):\n",
    "        if w in self.data:\n",
    "            return self.data[w]\n",
    "\n",
    "        elif len(get_close_matches(w,self.data.keys()))>0:\n",
    "           yn=input(\"Did you mean %s instead ? Enter Y for yes , N for No.\"%get_close_matches(w,self.data.keys())[0])\n",
    "           if yn==\"Y\" or yn=='y':\n",
    "            return get_close_matches(w,self.data.keys())\n",
    "           elif yn=='N' or yn=='n':\n",
    "            return \"Sorry unbale to find your meaning.\"\n",
    "           else :\n",
    "                return \"Sorry unbale to understand you .\"\n",
    "        else:\n",
    "            return \"This word does not exist.\"\n",
    "    def find(self):\n",
    "        #while(True):\n",
    "            \n",
    "            w=input(\"Enter your word to find the meaning \\n\") \n",
    "\n",
    "            output=self.translate(w.lower())\n",
    "\n",
    "            if type(output)==list:\n",
    "                for i, item in enumerate(output):\n",
    "                    print(str(i+1)+\")\",str(item)) \n",
    "\n",
    "            else:\n",
    "                print(\"\\n🙄 \" + str(output))\n",
    "            \n",
    "def main():\n",
    "    obj=Dictionary()\n",
    "    obj.find()\n",
    "            \n",
    "if __name__=='__main__':\n",
    "    main()"
   ]
  },
  {
   "cell_type": "code",
   "execution_count": null,
   "metadata": {},
   "outputs": [],
   "source": []
  }
 ],
 "metadata": {
  "kernelspec": {
   "display_name": "Python 3",
   "language": "python",
   "name": "python3"
  },
  "language_info": {
   "codemirror_mode": {
    "name": "ipython",
    "version": 3
   },
   "file_extension": ".py",
   "mimetype": "text/x-python",
   "name": "python",
   "nbconvert_exporter": "python",
   "pygments_lexer": "ipython3",
   "version": "3.7.2"
  }
 },
 "nbformat": 4,
 "nbformat_minor": 2
}
